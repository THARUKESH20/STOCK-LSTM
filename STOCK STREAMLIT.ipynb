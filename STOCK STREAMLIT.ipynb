{
  "nbformat": 4,
  "nbformat_minor": 0,
  "metadata": {
    "colab": {
      "provenance": []
    },
    "kernelspec": {
      "name": "python3",
      "display_name": "Python 3"
    },
    "language_info": {
      "name": "python"
    }
  },
  "cells": [
    {
      "cell_type": "code",
      "execution_count": 1,
      "metadata": {
        "colab": {
          "base_uri": "https://localhost:8080/"
        },
        "id": "DNfGtx_nfNQE",
        "outputId": "4810673d-e5c3-4321-9d1a-502dbefad615"
      },
      "outputs": [
        {
          "output_type": "stream",
          "name": "stdout",
          "text": [
            "\u001b[2K     \u001b[90m━━━━━━━━━━━━━━━━━━━━━━━━━━━━━━━━━━━━━━━━\u001b[0m \u001b[32m8.4/8.4 MB\u001b[0m \u001b[31m22.7 MB/s\u001b[0m eta \u001b[36m0:00:00\u001b[0m\n",
            "\u001b[2K     \u001b[90m━━━━━━━━━━━━━━━━━━━━━━━━━━━━━━━━━━━━━━━━\u001b[0m \u001b[32m195.4/195.4 kB\u001b[0m \u001b[31m17.8 MB/s\u001b[0m eta \u001b[36m0:00:00\u001b[0m\n",
            "\u001b[2K     \u001b[90m━━━━━━━━━━━━━━━━━━━━━━━━━━━━━━━━━━━━━━━━\u001b[0m \u001b[32m4.8/4.8 MB\u001b[0m \u001b[31m52.2 MB/s\u001b[0m eta \u001b[36m0:00:00\u001b[0m\n",
            "\u001b[2K     \u001b[90m━━━━━━━━━━━━━━━━━━━━━━━━━━━━━━━━━━━━━━━━\u001b[0m \u001b[32m83.0/83.0 kB\u001b[0m \u001b[31m8.3 MB/s\u001b[0m eta \u001b[36m0:00:00\u001b[0m\n",
            "\u001b[2K     \u001b[90m━━━━━━━━━━━━━━━━━━━━━━━━━━━━━━━━━━━━━━━━\u001b[0m \u001b[32m62.7/62.7 kB\u001b[0m \u001b[31m5.9 MB/s\u001b[0m eta \u001b[36m0:00:00\u001b[0m\n",
            "\u001b[?25h"
          ]
        }
      ],
      "source": [
        "! pip install streamlit -q\n"
      ]
    },
    {
      "cell_type": "code",
      "source": [
        "%%writefile app.py\n",
        "import streamlit as st\n",
        "import streamlit as st\n",
        "import numpy as np\n",
        "import pandas as pd\n",
        "from keras.models import Sequential\n",
        "from keras.layers import Dense, LSTM\n",
        "from sklearn.preprocessing import MinMaxScaler\n",
        "import yfinance as yf\n",
        "import matplotlib.pyplot as plt\n",
        "\n",
        "# Function to predict the next day's closing price\n",
        "def predict_next_day_closing_price(model, scaler, historical_data):\n",
        "    last_60_days = historical_data[-60:].values\n",
        "    last_60_days_scaled = scaler.transform(last_60_days)\n",
        "    x_test = np.array([last_60_days_scaled])\n",
        "    x_test = np.reshape(x_test, (x_test.shape[0], x_test.shape[1], 1))\n",
        "\n",
        "    pred_price = model.predict(x_test)\n",
        "    pred_price = scaler.inverse_transform(pred_price)\n",
        "\n",
        "    return pred_price[0][0]\n",
        "\n",
        "# Download historical data for AAPL\n",
        "start_date = '2001-01-01'\n",
        "end_date = '2024-02-29'\n",
        "stock_ticker = 'AAPL'\n",
        "df = yf.download(stock_ticker, start=start_date, end=end_date)\n",
        "\n",
        "# Data preprocessing\n",
        "data = df.filter(['Close'])\n",
        "dataset = data.values\n",
        "scaler = MinMaxScaler(feature_range=(0, 1))\n",
        "scaled_data = scaler.fit_transform(dataset)\n",
        "\n",
        "# Train the LSTM model\n",
        "training_data_len = int(len(dataset) * 0.8)\n",
        "train_data = scaled_data[0:training_data_len, :]\n",
        "\n",
        "x_train = []\n",
        "y_train = []\n",
        "\n",
        "for i in range(60, len(train_data)):\n",
        "    x_train.append(train_data[i-60:i, 0])\n",
        "    y_train.append(train_data[i, 0])\n",
        "\n",
        "x_train, y_train = np.array(x_train), np.array(y_train)\n",
        "x_train = np.reshape(x_train, (x_train.shape[0], x_train.shape[1], 1))\n",
        "\n",
        "model = Sequential()\n",
        "model.add(LSTM(50, return_sequences=True, input_shape=(x_train.shape[1], 1)))\n",
        "model.add(LSTM(50, return_sequences=False))\n",
        "model.add(Dense(25))\n",
        "model.add(Dense(1))\n",
        "model.compile(optimizer='adam', loss='mean_squared_error')\n",
        "model.fit(x_train, y_train, batch_size=1, epochs=1)\n",
        "\n",
        "# Use the trained model to predict the next day's closing price\n",
        "next_day_pred = predict_next_day_closing_price(model, scaler, data)\n",
        "\n",
        "# Streamlit App\n",
        "st.title('Stock Prediction App')\n",
        "st.markdown(\"![Alt Text](https://c.tenor.com/jw92b2HUuTAAAAAC/stonks-stocks.gif)\")\n",
        "\n",
        "st.subheader(f'{stock_ticker} Data From {start_date} To {end_date}')\n",
        "st.write(df)\n",
        "\n",
        "st.subheader(f'{stock_ticker} Statistical Data')\n",
        "st.write(df.describe())\n",
        "\n",
        "st.subheader('Closing Price v/s Time Chart With 100 SMA And 200 SMA')\n",
        "st.write(\"A 100-day and 200-day Moving Average (MA) is the average of closing prices of the previous 100 days and 200 days respectively\")\n",
        "st.write(\"As Per Market Experts -> Buy signal appear when SMA-100 line cut SMA-200 line in its way upward\")\n",
        "\n",
        "ma100 = df.Close.rolling(100).mean()\n",
        "ma200 = df.Close.rolling(200).mean()\n",
        "fig = plt.figure(figsize=(12, 6))\n",
        "plt.plot(df.Close, 'b', label='Closing Price')\n",
        "plt.plot(ma100, 'r', label='100 SMA')\n",
        "plt.plot(ma200, 'g', label='200 SMA')\n",
        "plt.xlabel('Time')\n",
        "plt.ylabel('Price')\n",
        "plt.legend()\n",
        "st.pyplot(fig)\n",
        "\n",
        "st.subheader('Predict Next Day Closing Price')\n",
        "st.write(f\"Predicted Closing Price for the next day: {next_day_pred}\")\n",
        "\n",
        "# Visualize the predictions\n",
        "st.subheader('Model Predictions')\n",
        "plt.figure(figsize=(16, 8))\n",
        "plt.title('Model Predictions')\n",
        "plt.xlabel('Date', fontsize=18)\n",
        "plt.ylabel('Close Price', fontsize=18)\n",
        "plt.plot(data[-training_data_len:], label='Historical Data')\n",
        "plt.axvline(x=df.index[-1], color='r', linestyle='--', label='End of Historical Data')\n",
        "plt.scatter(df.index[-1], next_day_pred, color='g', label='Predicted Next Day Closing Price')\n",
        "plt.legend()\n",
        "st.pyplot(plt)\n",
        "\n",
        "st.write(\"\"\"\n",
        "This Is Just For Educational Purpose And No Way A Financial Advice.\n",
        "Made With ❤️ By [Your Name]\n",
        "\"\"\")\n"
      ],
      "metadata": {
        "colab": {
          "base_uri": "https://localhost:8080/"
        },
        "id": "hJ5uvRNGfP2i",
        "outputId": "f4f7ce8f-71a3-4f54-e1b0-5b5b53bb2fcb"
      },
      "execution_count": 2,
      "outputs": [
        {
          "output_type": "stream",
          "name": "stdout",
          "text": [
            "Writing app.py\n"
          ]
        }
      ]
    },
    {
      "cell_type": "code",
      "source": [
        "!pip install pyngrok\n"
      ],
      "metadata": {
        "colab": {
          "base_uri": "https://localhost:8080/"
        },
        "id": "z-ugbuDFfohZ",
        "outputId": "affdc257-dc6a-4e39-b092-32ea136d189e"
      },
      "execution_count": 3,
      "outputs": [
        {
          "output_type": "stream",
          "name": "stdout",
          "text": [
            "Collecting pyngrok\n",
            "  Downloading pyngrok-7.1.3-py3-none-any.whl (22 kB)\n",
            "Requirement already satisfied: PyYAML>=5.1 in /usr/local/lib/python3.10/dist-packages (from pyngrok) (6.0.1)\n",
            "Installing collected packages: pyngrok\n",
            "Successfully installed pyngrok-7.1.3\n"
          ]
        }
      ]
    },
    {
      "cell_type": "code",
      "source": [
        "! streamlit run app.py & npx localtunnel --port 8501"
      ],
      "metadata": {
        "colab": {
          "base_uri": "https://localhost:8080/"
        },
        "id": "caGp0hQQfs2D",
        "outputId": "07063970-b921-4400-a0e9-3e0e0320e2e2"
      },
      "execution_count": 4,
      "outputs": [
        {
          "output_type": "stream",
          "name": "stdout",
          "text": [
            "\n",
            "Collecting usage statistics. To deactivate, set browser.gatherUsageStats to False.\n",
            "\u001b[0m\n",
            "\u001b[0m\n",
            "\u001b[34m\u001b[1m  You can now view your Streamlit app in your browser.\u001b[0m\n",
            "\u001b[0m\n",
            "\u001b[34m  Network URL: \u001b[0m\u001b[1mhttp://172.28.0.12:8501\u001b[0m\n",
            "\u001b[34m  External URL: \u001b[0m\u001b[1mhttp://34.27.131.38:8501\u001b[0m\n",
            "\u001b[0m\n",
            "\u001b[K\u001b[?25hnpx: installed 22 in 7.851s\n",
            "your url is: https://early-apples-cry.loca.lt\n",
            "2024-02-29 20:12:46.388848: E external/local_xla/xla/stream_executor/cuda/cuda_dnn.cc:9261] Unable to register cuDNN factory: Attempting to register factory for plugin cuDNN when one has already been registered\n",
            "2024-02-29 20:12:46.388935: E external/local_xla/xla/stream_executor/cuda/cuda_fft.cc:607] Unable to register cuFFT factory: Attempting to register factory for plugin cuFFT when one has already been registered\n",
            "2024-02-29 20:12:46.391239: E external/local_xla/xla/stream_executor/cuda/cuda_blas.cc:1515] Unable to register cuBLAS factory: Attempting to register factory for plugin cuBLAS when one has already been registered\n",
            "2024-02-29 20:12:46.402900: I tensorflow/core/platform/cpu_feature_guard.cc:182] This TensorFlow binary is optimized to use available CPU instructions in performance-critical operations.\n",
            "To enable the following instructions: AVX2 FMA, in other operations, rebuild TensorFlow with the appropriate compiler flags.\n",
            "2024-02-29 20:12:47.991959: W tensorflow/compiler/tf2tensorrt/utils/py_utils.cc:38] TF-TRT Warning: Could not find TensorRT\n",
            "[*********************100%%**********************]  1 of 1 completed\n",
            "4600/4600 [==============================] - 159s 34ms/step - loss: 7.1501e-05\n",
            "1/1 [==============================] - 1s 867ms/step\n",
            "\u001b[34m  Stopping...\u001b[0m\n",
            "^C\n"
          ]
        }
      ]
    },
    {
      "cell_type": "code",
      "source": [],
      "metadata": {
        "id": "ufcw2EzofwJ1"
      },
      "execution_count": null,
      "outputs": []
    }
  ]
}