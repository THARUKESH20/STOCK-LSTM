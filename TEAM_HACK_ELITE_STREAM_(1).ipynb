{
  "nbformat": 4,
  "nbformat_minor": 0,
  "metadata": {
    "colab": {
      "provenance": [],
      "gpuType": "V28"
    },
    "kernelspec": {
      "name": "python3",
      "display_name": "Python 3"
    },
    "language_info": {
      "name": "python"
    },
    "accelerator": "TPU"
  },
  "cells": [
    {
      "cell_type": "code",
      "execution_count": 1,
      "metadata": {
        "colab": {
          "base_uri": "https://localhost:8080/"
        },
        "id": "e6JNo_aQW8GR",
        "outputId": "d5633f87-327b-4d73-a677-598451c71814"
      },
      "outputs": [
        {
          "output_type": "stream",
          "name": "stdout",
          "text": [
            "\u001b[2K     \u001b[90m━━━━━━━━━━━━━━━━━━━━━━━━━━━━━━━━━━━━━━━━\u001b[0m \u001b[32m8.1/8.1 MB\u001b[0m \u001b[31m22.4 MB/s\u001b[0m eta \u001b[36m0:00:00\u001b[0m\n",
            "\u001b[2K     \u001b[90m━━━━━━━━━━━━━━━━━━━━━━━━━━━━━━━━━━━━━━━━\u001b[0m \u001b[32m38.3/38.3 MB\u001b[0m \u001b[31m21.9 MB/s\u001b[0m eta \u001b[36m0:00:00\u001b[0m\n",
            "\u001b[2K     \u001b[90m━━━━━━━━━━━━━━━━━━━━━━━━━━━━━━━━━━━━━━━━\u001b[0m \u001b[32m207.3/207.3 kB\u001b[0m \u001b[31m14.1 MB/s\u001b[0m eta \u001b[36m0:00:00\u001b[0m\n",
            "\u001b[2K     \u001b[90m━━━━━━━━━━━━━━━━━━━━━━━━━━━━━━━━━━━━━━━━\u001b[0m \u001b[32m4.8/4.8 MB\u001b[0m \u001b[31m57.6 MB/s\u001b[0m eta \u001b[36m0:00:00\u001b[0m\n",
            "\u001b[2K     \u001b[90m━━━━━━━━━━━━━━━━━━━━━━━━━━━━━━━━━━━━━━━━\u001b[0m \u001b[32m83.0/83.0 kB\u001b[0m \u001b[31m8.1 MB/s\u001b[0m eta \u001b[36m0:00:00\u001b[0m\n",
            "\u001b[2K     \u001b[90m━━━━━━━━━━━━━━━━━━━━━━━━━━━━━━━━━━━━━━━━\u001b[0m \u001b[32m62.7/62.7 kB\u001b[0m \u001b[31m5.0 MB/s\u001b[0m eta \u001b[36m0:00:00\u001b[0m\n",
            "\u001b[?25h"
          ]
        }
      ],
      "source": [
        "! pip install streamlit -q"
      ]
    },
    {
      "cell_type": "code",
      "source": [
        "pip install pandas_ta\n"
      ],
      "metadata": {
        "colab": {
          "base_uri": "https://localhost:8080/"
        },
        "id": "o0eOVw8DXlt5",
        "outputId": "6de8ac19-8f17-4819-e510-d17cd2a9eeef"
      },
      "execution_count": 2,
      "outputs": [
        {
          "output_type": "stream",
          "name": "stdout",
          "text": [
            "Collecting pandas_ta\n",
            "  Downloading pandas_ta-0.3.14b.tar.gz (115 kB)\n",
            "\u001b[?25l     \u001b[90m━━━━━━━━━━━━━━━━━━━━━━━━━━━━━━━━━━━━━━━━\u001b[0m \u001b[32m0.0/115.1 kB\u001b[0m \u001b[31m?\u001b[0m eta \u001b[36m-:--:--\u001b[0m\r\u001b[2K     \u001b[91m━━━━━━━━━━━━━━\u001b[0m\u001b[90m╺\u001b[0m\u001b[90m━━━━━━━━━━━━━━━━━━━━━━━━━\u001b[0m \u001b[32m41.0/115.1 kB\u001b[0m \u001b[31m1.1 MB/s\u001b[0m eta \u001b[36m0:00:01\u001b[0m\r\u001b[2K     \u001b[91m━━━━━━━━━━━━━━━━━━━━━━━━━━━━━━━━━━━━━━━\u001b[0m\u001b[90m╺\u001b[0m \u001b[32m112.6/115.1 kB\u001b[0m \u001b[31m1.7 MB/s\u001b[0m eta \u001b[36m0:00:01\u001b[0m\r\u001b[2K     \u001b[90m━━━━━━━━━━━━━━━━━━━━━━━━━━━━━━━━━━━━━━━━\u001b[0m \u001b[32m115.1/115.1 kB\u001b[0m \u001b[31m1.4 MB/s\u001b[0m eta \u001b[36m0:00:00\u001b[0m\n",
            "\u001b[?25h  Preparing metadata (setup.py) ... \u001b[?25l\u001b[?25hdone\n",
            "Requirement already satisfied: pandas in /usr/local/lib/python3.10/dist-packages (from pandas_ta) (2.0.3)\n",
            "Requirement already satisfied: python-dateutil>=2.8.2 in /usr/local/lib/python3.10/dist-packages (from pandas->pandas_ta) (2.9.0.post0)\n",
            "Requirement already satisfied: pytz>=2020.1 in /usr/local/lib/python3.10/dist-packages (from pandas->pandas_ta) (2024.1)\n",
            "Requirement already satisfied: tzdata>=2022.1 in /usr/local/lib/python3.10/dist-packages (from pandas->pandas_ta) (2024.1)\n",
            "Requirement already satisfied: numpy>=1.21.0 in /usr/local/lib/python3.10/dist-packages (from pandas->pandas_ta) (1.25.2)\n",
            "Requirement already satisfied: six>=1.5 in /usr/local/lib/python3.10/dist-packages (from python-dateutil>=2.8.2->pandas->pandas_ta) (1.16.0)\n",
            "Building wheels for collected packages: pandas_ta\n",
            "  Building wheel for pandas_ta (setup.py) ... \u001b[?25l\u001b[?25hdone\n",
            "  Created wheel for pandas_ta: filename=pandas_ta-0.3.14b0-py3-none-any.whl size=218907 sha256=ae240b0883c7b66c39d8b20ab5a557d663ed696a509573d1cff9818e350848dd\n",
            "  Stored in directory: /root/.cache/pip/wheels/69/00/ac/f7fa862c34b0e2ef320175100c233377b4c558944f12474cf0\n",
            "Successfully built pandas_ta\n",
            "Installing collected packages: pandas_ta\n",
            "Successfully installed pandas_ta-0.3.14b0\n"
          ]
        }
      ]
    },
    {
      "cell_type": "code",
      "source": [
        "!pip install pyngrok"
      ],
      "metadata": {
        "colab": {
          "base_uri": "https://localhost:8080/"
        },
        "id": "pbUy4qfCXtHl",
        "outputId": "105111f1-0f2e-423f-e472-9490e962a45b"
      },
      "execution_count": 3,
      "outputs": [
        {
          "output_type": "stream",
          "name": "stdout",
          "text": [
            "Collecting pyngrok\n",
            "  Downloading pyngrok-7.1.6-py3-none-any.whl (22 kB)\n",
            "Requirement already satisfied: PyYAML>=5.1 in /usr/local/lib/python3.10/dist-packages (from pyngrok) (6.0.1)\n",
            "Installing collected packages: pyngrok\n",
            "Successfully installed pyngrok-7.1.6\n"
          ]
        }
      ]
    },
    {
      "cell_type": "code",
      "source": [],
      "metadata": {
        "id": "UTk6uUIBvd0k"
      },
      "execution_count": null,
      "outputs": []
    },
    {
      "cell_type": "code",
      "source": [
        "%%writefile app.py\n",
        "import streamlit as st\n",
        "import pandas as pd\n",
        "import numpy as np\n",
        "import yfinance as yf\n",
        "import plotly.express as px\n",
        "from alpha_vantage.fundamentaldata import FundamentalData\n",
        "from stocknews import StockNews\n",
        "import pandas_ta as ta\n",
        "from pandas.tseries.holiday import USFederalHolidayCalendar\n",
        "\n",
        "# Function to set a background image\n",
        "def set_background(background_image):\n",
        "    st.markdown(\n",
        "        f\"\"\"\n",
        "        <style>\n",
        "            .reportview-container {{\n",
        "                background: url(\"{background_image}\") no-repeat center center;\n",
        "                background-size: cover;\n",
        "            }}\n",
        "        </style>\n",
        "        \"\"\",\n",
        "        unsafe_allow_html=True\n",
        "    )\n",
        "\n",
        "# Set background image\n",
        "set_background(\"https://images.unsplash.com/photo-1578861082890-f9211a299fb6\")\n",
        "\n",
        "# Add a famous quote\n",
        "st.markdown(\n",
        "    \"\"\"\n",
        "    <div style='text-align:center; padding: 20px;'>\n",
        "        <h2 style='color: white;'>YOUR TRADING IS GOING TO PAY OFF SOONER THAN YOU THINK. BE PATIENT.</h2>\n",
        "    </div>\n",
        "    \"\"\",\n",
        "    unsafe_allow_html=True\n",
        ")\n",
        "\n",
        "st.title('Stock Dashboard')\n",
        "\n",
        "# List of stocks\n",
        "stocks = ['AAPL', 'GOOG', 'MSFT', 'AMZN', 'FB', 'NFLX', 'TSLA', 'BA', 'IBM', 'NVDA',\n",
        "          'INTC', 'CSCO', 'PYPL', 'ADBE', 'NFLX', 'ASML', 'CMCSA', 'PEP', 'AVGO', 'TXN']\n",
        "\n",
        "# Function to analyze stocks and recommend the one with the least error\n",
        "def recommend_stock(stocks):\n",
        "    min_error = float('inf')\n",
        "    recommended_stock = None\n",
        "    for stock in stocks:\n",
        "        try:\n",
        "            data = yf.download(stock, period=\"1d\")\n",
        "            error = np.std(data['Close']) / np.mean(data['Close'])\n",
        "            if error < min_error:\n",
        "                min_error = error\n",
        "                recommended_stock = stock\n",
        "        except Exception as e:\n",
        "            print(f\"Error downloading data for {stock}: {e}\")\n",
        "    return recommended_stock\n",
        "\n",
        "# Recommended stock to buy\n",
        "recommended_stock = recommend_stock(stocks)\n",
        "st.sidebar.write(f\"Recommended Stock to Buy: {recommended_stock}\")\n",
        "\n",
        "# Input sidebar for ticker, start and end date\n",
        "selected_stock = st.sidebar.selectbox('Select Stock', stocks, index=0)\n",
        "start_date = st.sidebar.text_input('Start Date', '2001-01-01')\n",
        "end_date = st.sidebar.text_input('End Date', '2024-03-29')\n",
        "\n",
        "# Download data function call\n",
        "data = yf.download(selected_stock, start=start_date, end=end_date)\n",
        "\n",
        "# Plot the stock price line chart\n",
        "fig = px.line(data, x=data.index, y=data['Adj Close'], title=selected_stock)\n",
        "st.plotly_chart(fig)\n",
        "\n",
        "# Display Price Movements\n",
        "st.header('Price Movements')\n",
        "data2 = data\n",
        "data2['% Change'] = data['Adj Close'] / data['Adj Close'].shift(1) - 1\n",
        "data2.dropna(inplace=True)\n",
        "st.write(data2)\n",
        "\n",
        "annual_return = data2['% Change'].mean() * 252 * 100\n",
        "st.write('Annual Return is', annual_return, '%')\n",
        "stdev = np.std(data2['% Change']) * np.sqrt(252)\n",
        "st.write('Standard Deviation is ', stdev * 100, '%')\n",
        "\n",
        "# Fundamental Data\n",
        "st.header('Fundamental Data')\n",
        "key = 'VCZRSZJCMBEC02D1'  # Add your Alpha Vantage API key here\n",
        "fd = FundamentalData(key, output_format='pandas')\n",
        "st.subheader('Balance Sheet')\n",
        "balance_sheet = fd.get_balance_sheet_annual(selected_stock)[0]\n",
        "bs = balance_sheet.T[2:]\n",
        "bs.columns = list(balance_sheet.T.iloc[0])\n",
        "st.write(bs)\n",
        "\n",
        "st.subheader('Income Statement')\n",
        "income_statement = fd.get_income_statement_annual(selected_stock)[0]\n",
        "isl = income_statement.T[2:]\n",
        "isl.columns = list(income_statement.T.iloc[0])\n",
        "st.write(isl)\n",
        "\n",
        "st.subheader('Cash Flow Statement')\n",
        "cash_flow = fd.get_cash_flow_annual(selected_stock)[0]\n",
        "cf = cash_flow.T[2:]\n",
        "cf.columns = list(cash_flow.T.iloc[0])\n",
        "st.write(cf)\n",
        "\n",
        "# Top 10 News for Recommended Stock\n",
        "st.header('Top 10 News for Recommended Stock')\n",
        "sn = StockNews(recommended_stock)\n",
        "df_news = sn.read_rss()\n",
        "for i in range(10):\n",
        "    st.subheader(f'News {i+1}')\n",
        "    st.write(df_news['published'][i])\n",
        "    st.write(df_news['title'][i])\n",
        "    st.write(df_news['summary'][i])\n",
        "    title_sentiment = df_news['sentiment_title'][i]\n",
        "    st.write(f'Title Sentiment {title_sentiment}')\n",
        "    news_sentiment = df_news['sentiment_summary'][i]\n",
        "    st.write(f'News Sentiment {news_sentiment}')\n",
        "\n",
        "# Technical Analysis Dashboard\n",
        "st.header('Technical Analysis Dashboard')\n",
        "indicators = ['MACD', 'RSI', 'Bollinger Bands', 'ATR', 'OBV', 'AD', 'CCI', 'Chaikin Money Flow', 'VWAP']\n",
        "selected_indicator = st.selectbox('Select Technical Indicator', options=indicators)\n",
        "\n",
        "if selected_indicator == 'MACD':\n",
        "    indicator_data = ta.macd(data['Close'])\n",
        "elif selected_indicator == 'RSI':\n",
        "    indicator_data = ta.rsi(data['Close'])\n",
        "elif selected_indicator == 'Bollinger Bands':\n",
        "    indicator_data = ta.bbands(data['Close'])\n",
        "elif selected_indicator == 'ATR':\n",
        "    indicator_data = ta.atr(data['High'], data['Low'], data['Close'])\n",
        "elif selected_indicator == 'OBV':\n",
        "    indicator_data = ta.obv(data['Close'], data['Volume'])\n",
        "elif selected_indicator == 'AD':\n",
        "    indicator_data = ta.ad(data['High'], data['Low'], data['Close'], data['Volume'])\n",
        "elif selected_indicator == 'CCI':\n",
        "    indicator_data = ta.cci(data['High'], data['Low'], data['Close'])\n",
        "elif selected_indicator == 'Chaikin Money Flow':\n",
        "    indicator_data = ta.cmf(data['High'], data['Low'], data['Close'], data['Volume'])\n",
        "elif selected_indicator == 'VWAP':\n",
        "    indicator_data = ta.vwap(data['High'], data['Low'], data['Close'], data['Volume'])\n",
        "\n",
        "st.line_chart(indicator_data)\n",
        "st.write(indicator_data)\n",
        "\n",
        "# Portfolio Summary\n",
        "st.header('Portfolio Summary')\n",
        "if st.checkbox(\"Show Portfolio Summary\"):\n",
        "    # Example data (replace with your actual portfolio data)\n",
        "    portfolio_value = 1000000  # Total portfolio value\n",
        "    cash = 200000  # Cash balance\n",
        "    stocks_value = 800000  # Value of stocks\n",
        "    total_return = 0.15  # Total return (15%)\n",
        "    annual_return = 0.10  # Annualized return (10%)\n",
        "    volatility = 0.20  # Portfolio volatility (20%)\n",
        "\n",
        "    st.subheader(\"Portfolio Value\")\n",
        "    st.write(f\"Total Portfolio Value: ${portfolio_value:,.2f}\")\n",
        "    st.write(f\"Cash: ${cash:,.2f}\")\n",
        "    st.write(f\"Stocks Value: ${stocks_value:,.2f}\")\n",
        "\n",
        "    st.subheader(\"Performance Metrics\")\n",
        "    st.write(f\"Total Return: {total_return * 100:.2f}%\")\n",
        "    st.write(f\"Annualized Return: {annual_return * 100:.2f}%\")\n",
        "    st.write(f\"Portfolio Volatility: {volatility * 100:.2f}%\")\n",
        "\n",
        "# Watchlist\n",
        "st.header('Watchlist')\n",
        "if st.checkbox(\"Show Watchlist\"):\n",
        "    # Example data (replace with your actual watchlist data)\n",
        "    watchlist = {\n",
        "        'AAPL': {'price': 150.50, 'change': 1.25, 'percent_change': 0.84},\n",
        "        'GOOG': {'price': 2800.75, 'change': -5.50, 'percent_change': -0.20},\n",
        "        'MSFT': {'price': 250.20, 'change': 2.80, 'percent_change': 1.13},\n",
        "        # Add more stocks as needed\n",
        "    }\n",
        "\n",
        "    st.subheader(\"Stocks in Watchlist\")\n",
        "    for stock, data in watchlist.items():\n",
        "        st.write(f\"{stock}:\")\n",
        "        st.write(f\"Price: ${data['price']:.2f}\")\n",
        "        st.write(f\"Change: ${data['change']:.2f}\")\n",
        "        st.write(f\"Percent Change: {data['percent_change']:.2f}%\")\n",
        "\n",
        "# Market Indices\n",
        "st.header('Market Indices')\n",
        "if st.checkbox(\"Show Market Indices\"):\n",
        "    # Example data (replace with your actual market indices data)\n",
        "    sp500_value = 4000  # S&P 500 index value\n",
        "    dow_value = 33000  # Dow Jones Industrial Average index value\n",
        "    nasdaq_value = 13000  # NASDAQ index value\n",
        "\n",
        "    st.subheader(\"Market Indices\")\n",
        "    st.write(f\"S&P 500 Index: {sp500_value}\")\n",
        "    st.write(f\"Dow Jones Industrial Average: {dow_value}\")\n",
        "    st.write(f\"NASDAQ Composite: {nasdaq_value}\")\n",
        "\n",
        "# Individual Stock Performance\n",
        "st.header('Individual Stock Performance')\n",
        "if st.checkbox(\"Show Individual Stock Performance\"):\n",
        "    stocks = ['AAPL', 'GOOG', 'MSFT', 'AMZN', 'FB', 'NFLX', 'TSLA', 'BA', 'IBM', 'NVDA',\n",
        "              'INTC', 'CSCO', 'PYPL', 'ADBE', 'NFLX', 'ASML', 'CMCSA', 'PEP', 'AVGO', 'TXN']\n",
        "\n",
        "    for symbol in stocks:\n",
        "        # Replace this with your actual stock data retrieval and calculations\n",
        "        # For now, we'll use some example data\n",
        "        price = np.random.uniform(100, 500)  # Example price\n",
        "        change = np.random.uniform(-5, 5)  # Example change\n",
        "        change_percentage = (change / price) * 100\n",
        "\n",
        "        st.subheader(symbol)\n",
        "        st.write(f\"Price: ${price:.2f}\")\n",
        "        st.write(f\"Change: ${change:.2f}\")\n",
        "        st.write(f\"Change %: {change_percentage:.2f}%\")\n",
        "\n",
        "# Charts and Graphs\n",
        "st.header('Charts and Graphs')\n",
        "if st.checkbox(\"Show Charts and Graphs\"):\n",
        "    # Example data (replace with your actual data)\n",
        "\n",
        "    # Generate sample data\n",
        "    df = pd.DataFrame({\n",
        "        'Date': pd.date_range(start='2022-01-01', end='2022-12-31'),\n",
        "        'Stock_A': np.random.normal(loc=100, scale=10, size=365),\n",
        "        'Stock_B': np.random.normal(loc=80, scale=8, size=365)\n",
        "    })\n",
        "\n",
        "    # Line chart\n",
        "    st.subheader(\"Stock Prices Over Time\")\n",
        "    st.line_chart(df.set_index('Date'))\n",
        "\n",
        "    # Bar chart\n",
        "    st.subheader(\"Stock Performance Comparison\")\n",
        "    st.bar_chart(df[['Stock_A', 'Stock_B']].mean())\n",
        "\n",
        "    # Scatter plot\n",
        "    st.subheader(\"Correlation Between Stock A and Stock B\")\n",
        "    st.write(\"This scatter plot shows the correlation between Stock A and Stock B.\")\n",
        "    st.scatter_chart(df, x='Stock_A', y='Stock_B')\n",
        "\n",
        "# Financial Statements\n",
        "st.header('Financial Statements')\n",
        "if st.checkbox(\"Show Financial Statements\"):\n",
        "    # Example data (replace with your actual financial statements data)\n",
        "    # Assume you have fetched balance sheet, income statement, and cash flow statement data\n",
        "    balance_sheet_data = {\n",
        "        'Assets': {'Cash': 100000, 'Accounts Receivable': 200000, 'Inventory': 150000},\n",
        "        'Liabilities': {'Accounts Payable': 75000, 'Loans Payable': 50000, 'Accrued Expenses': 25000},\n",
        "        'Equity': {'Common Stock': 100000, 'Retained Earnings': 150000}\n",
        "    }\n",
        "\n",
        "    income_statement_data = {\n",
        "        'Revenue': 500000,\n",
        "        'Expenses': {'Cost of Goods Sold': 250000, 'Operating Expenses': 100000, 'Interest Expense': 25000},\n",
        "        'Net Income': 125000\n",
        "    }\n",
        "\n",
        "    cash_flow_statement_data = {\n",
        "        'Operating Activities': {'Net Income': 125000, 'Depreciation': 50000, 'Changes in Working Capital': 25000},\n",
        "        'Investing Activities': {'Purchase of Equipment': -75000, 'Sale of Investments': 50000},\n",
        "        'Financing Activities': {'Issuance of Common Stock': 100000, 'Repayment of Loans': -50000},\n",
        "        'Net Change in Cash': 175000\n",
        "    }\n",
        "\n",
        "    # Display Balance Sheet\n",
        "    st.subheader('Balance Sheet')\n",
        "    for category, items in balance_sheet_data.items():\n",
        "        st.write(category)\n",
        "        for item, value in items.items():\n",
        "            st.write(f\"- {item}: ${value:,.2f}\")\n",
        "\n",
        "    # Display Income Statement\n",
        "    st.subheader('Income Statement')\n",
        "    for item, value in income_statement_data.items():\n",
        "        if isinstance(value, dict):\n",
        "            st.write(item)\n",
        "            for sub_item, sub_value in value.items():\n",
        "                st.write(f\"- {sub_item}: ${sub_value:,.2f}\")\n",
        "        else:\n",
        "            st.write(f\"{item}: ${value:,.2f}\")\n",
        "\n",
        "    # Display Cash Flow Statement\n",
        "    st.subheader('Cash Flow Statement')\n",
        "    for category, items in cash_flow_statement_data.items():\n",
        "        if isinstance(items, dict):\n",
        "            st.write(category)\n",
        "            for sub_item, sub_value in items.items():\n",
        "                st.write(f\"- {sub_item}: ${sub_value:,.2f}\")\n",
        "        else:\n",
        "            st.write(f\"{category}: ${items:,.2f}\")\n",
        "\n",
        "\n",
        "\n",
        "# Market Calendar\n",
        "st.header('Market Calendar')\n",
        "if st.checkbox(\"Show Market Calendar\"):\n",
        "    # Define date range\n",
        "    start_date = pd.Timestamp.today()\n",
        "    end_date = start_date + pd.Timedelta(days=30)  # Display events for the next 30 days\n",
        "\n",
        "    # Generate US Federal Holiday Calendar\n",
        "    calendar = USFederalHolidayCalendar()\n",
        "    holidays = calendar.holidays(start=start_date, end=end_date)\n",
        "\n",
        "    # Display holidays\n",
        "    st.subheader(\"Upcoming Holidays\")\n",
        "    if len(holidays) > 0:\n",
        "        for holiday in holidays:\n",
        "            st.write(f\"- {holiday.strftime('%Y-%m-%d')} : {holiday}\")\n",
        "    else:\n",
        "        st.write(\"No upcoming holidays in the next 30 days.\")\n"
      ],
      "metadata": {
        "colab": {
          "base_uri": "https://localhost:8080/"
        },
        "id": "aKlOVFnzXBL9",
        "outputId": "ac24c282-7519-4abe-8374-acdcec469b8f"
      },
      "execution_count": 4,
      "outputs": [
        {
          "output_type": "stream",
          "name": "stdout",
          "text": [
            "Writing app.py\n"
          ]
        }
      ]
    },
    {
      "cell_type": "code",
      "source": [
        "pip install pandas_market_calendars\n"
      ],
      "metadata": {
        "colab": {
          "base_uri": "https://localhost:8080/"
        },
        "id": "4k9F4QPdzlv9",
        "outputId": "7f58faf9-ad5f-43b8-d464-81d1b516266d"
      },
      "execution_count": 5,
      "outputs": [
        {
          "output_type": "stream",
          "name": "stdout",
          "text": [
            "Collecting pandas_market_calendars\n",
            "  Downloading pandas_market_calendars-4.4.0-py3-none-any.whl (106 kB)\n",
            "\u001b[2K     \u001b[90m━━━━━━━━━━━━━━━━━━━━━━━━━━━━━━━━━━━━━━━━\u001b[0m \u001b[32m106.6/106.6 kB\u001b[0m \u001b[31m1.1 MB/s\u001b[0m eta \u001b[36m0:00:00\u001b[0m\n",
            "\u001b[?25hRequirement already satisfied: pandas>=1.1 in /usr/local/lib/python3.10/dist-packages (from pandas_market_calendars) (2.0.3)\n",
            "Requirement already satisfied: pytz in /usr/local/lib/python3.10/dist-packages (from pandas_market_calendars) (2024.1)\n",
            "Requirement already satisfied: python-dateutil in /usr/local/lib/python3.10/dist-packages (from pandas_market_calendars) (2.9.0.post0)\n",
            "Collecting exchange-calendars>=3.3 (from pandas_market_calendars)\n",
            "  Downloading exchange_calendars-4.5.3-py3-none-any.whl (191 kB)\n",
            "\u001b[2K     \u001b[90m━━━━━━━━━━━━━━━━━━━━━━━━━━━━━━━━━━━━━━━━\u001b[0m \u001b[32m191.7/191.7 kB\u001b[0m \u001b[31m3.3 MB/s\u001b[0m eta \u001b[36m0:00:00\u001b[0m\n",
            "\u001b[?25hRequirement already satisfied: numpy<2 in /usr/local/lib/python3.10/dist-packages (from exchange-calendars>=3.3->pandas_market_calendars) (1.25.2)\n",
            "Collecting pyluach (from exchange-calendars>=3.3->pandas_market_calendars)\n",
            "  Downloading pyluach-2.2.0-py3-none-any.whl (25 kB)\n",
            "Requirement already satisfied: toolz in /usr/local/lib/python3.10/dist-packages (from exchange-calendars>=3.3->pandas_market_calendars) (0.12.1)\n",
            "Requirement already satisfied: tzdata in /usr/local/lib/python3.10/dist-packages (from exchange-calendars>=3.3->pandas_market_calendars) (2024.1)\n",
            "Collecting korean-lunar-calendar (from exchange-calendars>=3.3->pandas_market_calendars)\n",
            "  Downloading korean_lunar_calendar-0.3.1-py3-none-any.whl (9.0 kB)\n",
            "Requirement already satisfied: six>=1.5 in /usr/local/lib/python3.10/dist-packages (from python-dateutil->pandas_market_calendars) (1.16.0)\n",
            "Installing collected packages: korean-lunar-calendar, pyluach, exchange-calendars, pandas_market_calendars\n",
            "Successfully installed exchange-calendars-4.5.3 korean-lunar-calendar-0.3.1 pandas_market_calendars-4.4.0 pyluach-2.2.0\n"
          ]
        }
      ]
    },
    {
      "cell_type": "code",
      "source": [
        "!pip install alpha_vantage\n"
      ],
      "metadata": {
        "colab": {
          "base_uri": "https://localhost:8080/"
        },
        "id": "y12VjHHPq8od",
        "outputId": "d8db71d9-8e70-4e13-d6fd-c72c74c66436"
      },
      "execution_count": 6,
      "outputs": [
        {
          "output_type": "stream",
          "name": "stdout",
          "text": [
            "Collecting alpha_vantage\n",
            "  Downloading alpha_vantage-2.3.1-py3-none-any.whl (31 kB)\n",
            "Collecting aiohttp (from alpha_vantage)\n",
            "  Downloading aiohttp-3.9.3-cp310-cp310-manylinux_2_17_x86_64.manylinux2014_x86_64.whl (1.2 MB)\n",
            "\u001b[2K     \u001b[90m━━━━━━━━━━━━━━━━━━━━━━━━━━━━━━━━━━━━━━━━\u001b[0m \u001b[32m1.2/1.2 MB\u001b[0m \u001b[31m8.3 MB/s\u001b[0m eta \u001b[36m0:00:00\u001b[0m\n",
            "\u001b[?25hRequirement already satisfied: requests in /usr/local/lib/python3.10/dist-packages (from alpha_vantage) (2.31.0)\n",
            "Collecting aiosignal>=1.1.2 (from aiohttp->alpha_vantage)\n",
            "  Downloading aiosignal-1.3.1-py3-none-any.whl (7.6 kB)\n",
            "Requirement already satisfied: attrs>=17.3.0 in /usr/local/lib/python3.10/dist-packages (from aiohttp->alpha_vantage) (23.2.0)\n",
            "Collecting frozenlist>=1.1.1 (from aiohttp->alpha_vantage)\n",
            "  Downloading frozenlist-1.4.1-cp310-cp310-manylinux_2_5_x86_64.manylinux1_x86_64.manylinux_2_17_x86_64.manylinux2014_x86_64.whl (239 kB)\n",
            "\u001b[2K     \u001b[90m━━━━━━━━━━━━━━━━━━━━━━━━━━━━━━━━━━━━━━━━\u001b[0m \u001b[32m239.5/239.5 kB\u001b[0m \u001b[31m20.7 MB/s\u001b[0m eta \u001b[36m0:00:00\u001b[0m\n",
            "\u001b[?25hCollecting multidict<7.0,>=4.5 (from aiohttp->alpha_vantage)\n",
            "  Downloading multidict-6.0.5-cp310-cp310-manylinux_2_17_x86_64.manylinux2014_x86_64.whl (124 kB)\n",
            "\u001b[2K     \u001b[90m━━━━━━━━━━━━━━━━━━━━━━━━━━━━━━━━━━━━━━━━\u001b[0m \u001b[32m124.3/124.3 kB\u001b[0m \u001b[31m12.1 MB/s\u001b[0m eta \u001b[36m0:00:00\u001b[0m\n",
            "\u001b[?25hCollecting yarl<2.0,>=1.0 (from aiohttp->alpha_vantage)\n",
            "  Downloading yarl-1.9.4-cp310-cp310-manylinux_2_17_x86_64.manylinux2014_x86_64.whl (301 kB)\n",
            "\u001b[2K     \u001b[90m━━━━━━━━━━━━━━━━━━━━━━━━━━━━━━━━━━━━━━━━\u001b[0m \u001b[32m301.6/301.6 kB\u001b[0m \u001b[31m24.6 MB/s\u001b[0m eta \u001b[36m0:00:00\u001b[0m\n",
            "\u001b[?25hCollecting async-timeout<5.0,>=4.0 (from aiohttp->alpha_vantage)\n",
            "  Downloading async_timeout-4.0.3-py3-none-any.whl (5.7 kB)\n",
            "Requirement already satisfied: charset-normalizer<4,>=2 in /usr/local/lib/python3.10/dist-packages (from requests->alpha_vantage) (3.3.2)\n",
            "Requirement already satisfied: idna<4,>=2.5 in /usr/local/lib/python3.10/dist-packages (from requests->alpha_vantage) (3.6)\n",
            "Requirement already satisfied: urllib3<3,>=1.21.1 in /usr/local/lib/python3.10/dist-packages (from requests->alpha_vantage) (2.0.7)\n",
            "Requirement already satisfied: certifi>=2017.4.17 in /usr/local/lib/python3.10/dist-packages (from requests->alpha_vantage) (2024.2.2)\n",
            "Installing collected packages: multidict, frozenlist, async-timeout, yarl, aiosignal, aiohttp, alpha_vantage\n",
            "Successfully installed aiohttp-3.9.3 aiosignal-1.3.1 alpha_vantage-2.3.1 async-timeout-4.0.3 frozenlist-1.4.1 multidict-6.0.5 yarl-1.9.4\n"
          ]
        }
      ]
    },
    {
      "cell_type": "code",
      "source": [
        "!pip install yfinance"
      ],
      "metadata": {
        "colab": {
          "base_uri": "https://localhost:8080/"
        },
        "id": "lyVutvklc3SB",
        "outputId": "d392fc11-362f-41ba-949d-fbe26be941a5"
      },
      "execution_count": 9,
      "outputs": [
        {
          "output_type": "stream",
          "name": "stdout",
          "text": [
            "Collecting yfinance\n",
            "  Downloading yfinance-0.2.37-py2.py3-none-any.whl (72 kB)\n",
            "\u001b[2K     \u001b[90m━━━━━━━━━━━━━━━━━━━━━━━━━━━━━━━━━━━━━━━━\u001b[0m \u001b[32m73.0/73.0 kB\u001b[0m \u001b[31m1.1 MB/s\u001b[0m eta \u001b[36m0:00:00\u001b[0m\n",
            "\u001b[?25hRequirement already satisfied: pandas>=1.3.0 in /usr/local/lib/python3.10/dist-packages (from yfinance) (2.0.3)\n",
            "Requirement already satisfied: numpy>=1.16.5 in /usr/local/lib/python3.10/dist-packages (from yfinance) (1.25.2)\n",
            "Requirement already satisfied: requests>=2.31 in /usr/local/lib/python3.10/dist-packages (from yfinance) (2.31.0)\n",
            "Collecting multitasking>=0.0.7 (from yfinance)\n",
            "  Downloading multitasking-0.0.11-py3-none-any.whl (8.5 kB)\n",
            "Collecting lxml>=4.9.1 (from yfinance)\n",
            "  Downloading lxml-5.2.1-cp310-cp310-manylinux_2_28_x86_64.whl (5.0 MB)\n",
            "\u001b[2K     \u001b[90m━━━━━━━━━━━━━━━━━━━━━━━━━━━━━━━━━━━━━━━━\u001b[0m \u001b[32m5.0/5.0 MB\u001b[0m \u001b[31m20.0 MB/s\u001b[0m eta \u001b[36m0:00:00\u001b[0m\n",
            "\u001b[?25hCollecting appdirs>=1.4.4 (from yfinance)\n",
            "  Downloading appdirs-1.4.4-py2.py3-none-any.whl (9.6 kB)\n",
            "Requirement already satisfied: pytz>=2022.5 in /usr/local/lib/python3.10/dist-packages (from yfinance) (2024.1)\n",
            "Collecting frozendict>=2.3.4 (from yfinance)\n",
            "  Downloading frozendict-2.4.1-cp310-cp310-manylinux_2_17_x86_64.manylinux2014_x86_64.whl (116 kB)\n",
            "\u001b[2K     \u001b[90m━━━━━━━━━━━━━━━━━━━━━━━━━━━━━━━━━━━━━━━━\u001b[0m \u001b[32m116.8/116.8 kB\u001b[0m \u001b[31m11.1 MB/s\u001b[0m eta \u001b[36m0:00:00\u001b[0m\n",
            "\u001b[?25hCollecting peewee>=3.16.2 (from yfinance)\n",
            "  Downloading peewee-3.17.1.tar.gz (3.0 MB)\n",
            "\u001b[2K     \u001b[90m━━━━━━━━━━━━━━━━━━━━━━━━━━━━━━━━━━━━━━━━\u001b[0m \u001b[32m3.0/3.0 MB\u001b[0m \u001b[31m80.8 MB/s\u001b[0m eta \u001b[36m0:00:00\u001b[0m\n",
            "\u001b[?25h  Installing build dependencies ... \u001b[?25l\u001b[?25hdone\n",
            "  Getting requirements to build wheel ... \u001b[?25l\u001b[?25hdone\n",
            "  Preparing metadata (pyproject.toml) ... \u001b[?25l\u001b[?25hdone\n",
            "Requirement already satisfied: beautifulsoup4>=4.11.1 in /usr/local/lib/python3.10/dist-packages (from yfinance) (4.12.3)\n",
            "Collecting html5lib>=1.1 (from yfinance)\n",
            "  Downloading html5lib-1.1-py2.py3-none-any.whl (112 kB)\n",
            "\u001b[2K     \u001b[90m━━━━━━━━━━━━━━━━━━━━━━━━━━━━━━━━━━━━━━━━\u001b[0m \u001b[32m112.2/112.2 kB\u001b[0m \u001b[31m10.2 MB/s\u001b[0m eta \u001b[36m0:00:00\u001b[0m\n",
            "\u001b[?25hRequirement already satisfied: soupsieve>1.2 in /usr/local/lib/python3.10/dist-packages (from beautifulsoup4>=4.11.1->yfinance) (2.5)\n",
            "Requirement already satisfied: six>=1.9 in /usr/local/lib/python3.10/dist-packages (from html5lib>=1.1->yfinance) (1.16.0)\n",
            "Requirement already satisfied: webencodings in /usr/local/lib/python3.10/dist-packages (from html5lib>=1.1->yfinance) (0.5.1)\n",
            "Requirement already satisfied: python-dateutil>=2.8.2 in /usr/local/lib/python3.10/dist-packages (from pandas>=1.3.0->yfinance) (2.9.0.post0)\n",
            "Requirement already satisfied: tzdata>=2022.1 in /usr/local/lib/python3.10/dist-packages (from pandas>=1.3.0->yfinance) (2024.1)\n",
            "Requirement already satisfied: charset-normalizer<4,>=2 in /usr/local/lib/python3.10/dist-packages (from requests>=2.31->yfinance) (3.3.2)\n",
            "Requirement already satisfied: idna<4,>=2.5 in /usr/local/lib/python3.10/dist-packages (from requests>=2.31->yfinance) (3.6)\n",
            "Requirement already satisfied: urllib3<3,>=1.21.1 in /usr/local/lib/python3.10/dist-packages (from requests>=2.31->yfinance) (2.0.7)\n",
            "Requirement already satisfied: certifi>=2017.4.17 in /usr/local/lib/python3.10/dist-packages (from requests>=2.31->yfinance) (2024.2.2)\n",
            "Building wheels for collected packages: peewee\n",
            "  Building wheel for peewee (pyproject.toml) ... \u001b[?25l\u001b[?25hdone\n",
            "  Created wheel for peewee: filename=peewee-3.17.1-cp310-cp310-linux_x86_64.whl size=726071 sha256=947fbeb747a892e76fe80433923b4db0fc7400dc5182a7d8d0375c8ba6155118\n",
            "  Stored in directory: /root/.cache/pip/wheels/d7/35/5c/1374782be033462df5f40174d8d879519d64ed8c25a1977554\n",
            "Successfully built peewee\n",
            "Installing collected packages: peewee, multitasking, appdirs, lxml, html5lib, frozendict, yfinance\n",
            "Successfully installed appdirs-1.4.4 frozendict-2.4.1 html5lib-1.1 lxml-5.2.1 multitasking-0.0.11 peewee-3.17.1 yfinance-0.2.37\n"
          ]
        }
      ]
    },
    {
      "cell_type": "code",
      "source": [
        "!pip install stocknews"
      ],
      "metadata": {
        "colab": {
          "base_uri": "https://localhost:8080/"
        },
        "id": "FycV9HiXrO6A",
        "outputId": "a5f78a14-821b-4a2c-d989-e9565c7a4eab"
      },
      "execution_count": 7,
      "outputs": [
        {
          "output_type": "stream",
          "name": "stdout",
          "text": [
            "Collecting stocknews\n",
            "  Downloading stocknews-0.9.11.tar.gz (5.4 kB)\n",
            "  Preparing metadata (setup.py) ... \u001b[?25l\u001b[?25hdone\n",
            "Requirement already satisfied: pandas in /usr/local/lib/python3.10/dist-packages (from stocknews) (2.0.3)\n",
            "Collecting feedparser (from stocknews)\n",
            "  Downloading feedparser-6.0.11-py3-none-any.whl (81 kB)\n",
            "\u001b[2K     \u001b[90m━━━━━━━━━━━━━━━━━━━━━━━━━━━━━━━━━━━━━━━━\u001b[0m \u001b[32m81.3/81.3 kB\u001b[0m \u001b[31m1.5 MB/s\u001b[0m eta \u001b[36m0:00:00\u001b[0m\n",
            "\u001b[?25hRequirement already satisfied: nltk in /usr/local/lib/python3.10/dist-packages (from stocknews) (3.8.1)\n",
            "Requirement already satisfied: requests in /usr/local/lib/python3.10/dist-packages (from stocknews) (2.31.0)\n",
            "Requirement already satisfied: numpy in /usr/local/lib/python3.10/dist-packages (from stocknews) (1.25.2)\n",
            "Collecting sgmllib3k (from feedparser->stocknews)\n",
            "  Downloading sgmllib3k-1.0.0.tar.gz (5.8 kB)\n",
            "  Preparing metadata (setup.py) ... \u001b[?25l\u001b[?25hdone\n",
            "Requirement already satisfied: click in /usr/local/lib/python3.10/dist-packages (from nltk->stocknews) (8.1.7)\n",
            "Requirement already satisfied: joblib in /usr/local/lib/python3.10/dist-packages (from nltk->stocknews) (1.3.2)\n",
            "Requirement already satisfied: regex>=2021.8.3 in /usr/local/lib/python3.10/dist-packages (from nltk->stocknews) (2023.12.25)\n",
            "Requirement already satisfied: tqdm in /usr/local/lib/python3.10/dist-packages (from nltk->stocknews) (4.66.2)\n",
            "Requirement already satisfied: python-dateutil>=2.8.2 in /usr/local/lib/python3.10/dist-packages (from pandas->stocknews) (2.9.0.post0)\n",
            "Requirement already satisfied: pytz>=2020.1 in /usr/local/lib/python3.10/dist-packages (from pandas->stocknews) (2024.1)\n",
            "Requirement already satisfied: tzdata>=2022.1 in /usr/local/lib/python3.10/dist-packages (from pandas->stocknews) (2024.1)\n",
            "Requirement already satisfied: charset-normalizer<4,>=2 in /usr/local/lib/python3.10/dist-packages (from requests->stocknews) (3.3.2)\n",
            "Requirement already satisfied: idna<4,>=2.5 in /usr/local/lib/python3.10/dist-packages (from requests->stocknews) (3.6)\n",
            "Requirement already satisfied: urllib3<3,>=1.21.1 in /usr/local/lib/python3.10/dist-packages (from requests->stocknews) (2.0.7)\n",
            "Requirement already satisfied: certifi>=2017.4.17 in /usr/local/lib/python3.10/dist-packages (from requests->stocknews) (2024.2.2)\n",
            "Requirement already satisfied: six>=1.5 in /usr/local/lib/python3.10/dist-packages (from python-dateutil>=2.8.2->pandas->stocknews) (1.16.0)\n",
            "Building wheels for collected packages: stocknews, sgmllib3k\n",
            "  Building wheel for stocknews (setup.py) ... \u001b[?25l\u001b[?25hdone\n",
            "  Created wheel for stocknews: filename=stocknews-0.9.11-py3-none-any.whl size=5396 sha256=299d5f7a0dad048c578c5efe867722fe62ee03631e2a2041c4ca988c75c4f99c\n",
            "  Stored in directory: /root/.cache/pip/wheels/9e/59/42/c5ab3171c3509ff8bc6aafbc089fe826eacf531ef7f7803ff6\n",
            "  Building wheel for sgmllib3k (setup.py) ... \u001b[?25l\u001b[?25hdone\n",
            "  Created wheel for sgmllib3k: filename=sgmllib3k-1.0.0-py3-none-any.whl size=6049 sha256=bc52dac2bb6c9a1b756509d71bb3934c1dea44772356c02b2ec0d162c0cd4c0b\n",
            "  Stored in directory: /root/.cache/pip/wheels/f0/69/93/a47e9d621be168e9e33c7ce60524393c0b92ae83cf6c6e89c5\n",
            "Successfully built stocknews sgmllib3k\n",
            "Installing collected packages: sgmllib3k, feedparser, stocknews\n",
            "Successfully installed feedparser-6.0.11 sgmllib3k-1.0.0 stocknews-0.9.11\n"
          ]
        }
      ]
    },
    {
      "cell_type": "code",
      "source": [
        "! streamlit run app.py & npx localtunnel --port 8501"
      ],
      "metadata": {
        "colab": {
          "base_uri": "https://localhost:8080/"
        },
        "id": "XeyVki6JX0b0",
        "outputId": "37a1063a-f846-439f-f1ab-3969e3d49109"
      },
      "execution_count": null,
      "outputs": [
        {
          "output_type": "stream",
          "name": "stdout",
          "text": [
            "\n",
            "Collecting usage statistics. To deactivate, set browser.gatherUsageStats to false.\n",
            "\u001b[0m\n",
            "\u001b[0m\n",
            "\u001b[34m\u001b[1m  You can now view your Streamlit app in your browser.\u001b[0m\n",
            "\u001b[0m\n",
            "\u001b[34m  Network URL: \u001b[0m\u001b[1mhttp://172.28.0.12:8501\u001b[0m\n",
            "\u001b[34m  External URL: \u001b[0m\u001b[1mhttp://35.238.1.90:8501\u001b[0m\n",
            "\u001b[0m\n",
            "\u001b[K\u001b[?25hnpx: installed 22 in 2.876s\n",
            "your url is: https://major-parts-take.loca.lt\n",
            "[*********************100%%**********************]  1 of 1 completed\n",
            "[*********************100%%**********************]  1 of 1 completed\n",
            "[*********************100%%**********************]  1 of 1 completed\n",
            "[*********************100%%**********************]  1 of 1 completed\n",
            "[*********************100%%**********************]  1 of 1 completed\n",
            "\n",
            "1 Failed download:\n",
            "['FB']: Exception('%ticker%: No data found, symbol may be delisted')\n",
            "[*********************100%%**********************]  1 of 1 completed\n",
            "[*********************100%%**********************]  1 of 1 completed\n",
            "[*********************100%%**********************]  1 of 1 completed\n",
            "[*********************100%%**********************]  1 of 1 completed\n",
            "[*********************100%%**********************]  1 of 1 completed\n",
            "[*********************100%%**********************]  1 of 1 completed\n",
            "[*********************100%%**********************]  1 of 1 completed\n",
            "[*********************100%%**********************]  1 of 1 completed\n",
            "[*********************100%%**********************]  1 of 1 completed\n",
            "[*********************100%%**********************]  1 of 1 completed\n",
            "[*********************100%%**********************]  1 of 1 completed\n",
            "[*********************100%%**********************]  1 of 1 completed\n",
            "[*********************100%%**********************]  1 of 1 completed\n",
            "[*********************100%%**********************]  1 of 1 completed\n",
            "[*********************100%%**********************]  1 of 1 completed\n",
            "[*********************100%%**********************]  1 of 1 completed\n"
          ]
        }
      ]
    },
    {
      "cell_type": "code",
      "source": [
        "!pip install alpha_vantage\n"
      ],
      "metadata": {
        "colab": {
          "base_uri": "https://localhost:8080/"
        },
        "id": "eTbm-0fOX8NB",
        "outputId": "4e5ca2c2-b20e-4175-cd06-623df0ef04db"
      },
      "execution_count": null,
      "outputs": [
        {
          "output_type": "stream",
          "name": "stdout",
          "text": [
            "Collecting alpha_vantage\n",
            "  Downloading alpha_vantage-2.3.1-py3-none-any.whl (31 kB)\n",
            "Requirement already satisfied: aiohttp in /usr/local/lib/python3.10/dist-packages (from alpha_vantage) (3.9.3)\n",
            "Requirement already satisfied: requests in /usr/local/lib/python3.10/dist-packages (from alpha_vantage) (2.31.0)\n",
            "Requirement already satisfied: aiosignal>=1.1.2 in /usr/local/lib/python3.10/dist-packages (from aiohttp->alpha_vantage) (1.3.1)\n",
            "Requirement already satisfied: attrs>=17.3.0 in /usr/local/lib/python3.10/dist-packages (from aiohttp->alpha_vantage) (23.2.0)\n",
            "Requirement already satisfied: frozenlist>=1.1.1 in /usr/local/lib/python3.10/dist-packages (from aiohttp->alpha_vantage) (1.4.1)\n",
            "Requirement already satisfied: multidict<7.0,>=4.5 in /usr/local/lib/python3.10/dist-packages (from aiohttp->alpha_vantage) (6.0.5)\n",
            "Requirement already satisfied: yarl<2.0,>=1.0 in /usr/local/lib/python3.10/dist-packages (from aiohttp->alpha_vantage) (1.9.4)\n",
            "Requirement already satisfied: async-timeout<5.0,>=4.0 in /usr/local/lib/python3.10/dist-packages (from aiohttp->alpha_vantage) (4.0.3)\n",
            "Requirement already satisfied: charset-normalizer<4,>=2 in /usr/local/lib/python3.10/dist-packages (from requests->alpha_vantage) (3.3.2)\n",
            "Requirement already satisfied: idna<4,>=2.5 in /usr/local/lib/python3.10/dist-packages (from requests->alpha_vantage) (3.6)\n",
            "Requirement already satisfied: urllib3<3,>=1.21.1 in /usr/local/lib/python3.10/dist-packages (from requests->alpha_vantage) (2.0.7)\n",
            "Requirement already satisfied: certifi>=2017.4.17 in /usr/local/lib/python3.10/dist-packages (from requests->alpha_vantage) (2024.2.2)\n",
            "Installing collected packages: alpha_vantage\n",
            "Successfully installed alpha_vantage-2.3.1\n"
          ]
        }
      ]
    },
    {
      "cell_type": "code",
      "source": [
        "!pip install stocknews"
      ],
      "metadata": {
        "colab": {
          "base_uri": "https://localhost:8080/"
        },
        "id": "OYFm6GKwYNfH",
        "outputId": "e3d1bbc2-b8f6-46d9-f6d4-feecaccdebaa"
      },
      "execution_count": null,
      "outputs": [
        {
          "output_type": "stream",
          "name": "stdout",
          "text": [
            "Collecting stocknews\n",
            "  Downloading stocknews-0.9.11.tar.gz (5.4 kB)\n",
            "  Preparing metadata (setup.py) ... \u001b[?25l\u001b[?25hdone\n",
            "Requirement already satisfied: pandas in /usr/local/lib/python3.10/dist-packages (from stocknews) (1.5.3)\n",
            "Collecting feedparser (from stocknews)\n",
            "  Downloading feedparser-6.0.11-py3-none-any.whl (81 kB)\n",
            "\u001b[2K     \u001b[90m━━━━━━━━━━━━━━━━━━━━━━━━━━━━━━━━━━━━━━━━\u001b[0m \u001b[32m81.3/81.3 kB\u001b[0m \u001b[31m1.6 MB/s\u001b[0m eta \u001b[36m0:00:00\u001b[0m\n",
            "\u001b[?25hRequirement already satisfied: nltk in /usr/local/lib/python3.10/dist-packages (from stocknews) (3.8.1)\n",
            "Requirement already satisfied: requests in /usr/local/lib/python3.10/dist-packages (from stocknews) (2.31.0)\n",
            "Requirement already satisfied: numpy in /usr/local/lib/python3.10/dist-packages (from stocknews) (1.25.2)\n",
            "Collecting sgmllib3k (from feedparser->stocknews)\n",
            "  Downloading sgmllib3k-1.0.0.tar.gz (5.8 kB)\n",
            "  Preparing metadata (setup.py) ... \u001b[?25l\u001b[?25hdone\n",
            "Requirement already satisfied: click in /usr/local/lib/python3.10/dist-packages (from nltk->stocknews) (8.1.7)\n",
            "Requirement already satisfied: joblib in /usr/local/lib/python3.10/dist-packages (from nltk->stocknews) (1.3.2)\n",
            "Requirement already satisfied: regex>=2021.8.3 in /usr/local/lib/python3.10/dist-packages (from nltk->stocknews) (2023.12.25)\n",
            "Requirement already satisfied: tqdm in /usr/local/lib/python3.10/dist-packages (from nltk->stocknews) (4.66.2)\n",
            "Requirement already satisfied: python-dateutil>=2.8.1 in /usr/local/lib/python3.10/dist-packages (from pandas->stocknews) (2.8.2)\n",
            "Requirement already satisfied: pytz>=2020.1 in /usr/local/lib/python3.10/dist-packages (from pandas->stocknews) (2023.4)\n",
            "Requirement already satisfied: charset-normalizer<4,>=2 in /usr/local/lib/python3.10/dist-packages (from requests->stocknews) (3.3.2)\n",
            "Requirement already satisfied: idna<4,>=2.5 in /usr/local/lib/python3.10/dist-packages (from requests->stocknews) (3.6)\n",
            "Requirement already satisfied: urllib3<3,>=1.21.1 in /usr/local/lib/python3.10/dist-packages (from requests->stocknews) (2.0.7)\n",
            "Requirement already satisfied: certifi>=2017.4.17 in /usr/local/lib/python3.10/dist-packages (from requests->stocknews) (2024.2.2)\n",
            "Requirement already satisfied: six>=1.5 in /usr/local/lib/python3.10/dist-packages (from python-dateutil>=2.8.1->pandas->stocknews) (1.16.0)\n",
            "Building wheels for collected packages: stocknews, sgmllib3k\n",
            "  Building wheel for stocknews (setup.py) ... \u001b[?25l\u001b[?25hdone\n",
            "  Created wheel for stocknews: filename=stocknews-0.9.11-py3-none-any.whl size=5396 sha256=35aee0f9df40fd4de5fc43100345331fc7a577cba48dca3e925ed25bc5ca18a6\n",
            "  Stored in directory: /root/.cache/pip/wheels/9e/59/42/c5ab3171c3509ff8bc6aafbc089fe826eacf531ef7f7803ff6\n",
            "  Building wheel for sgmllib3k (setup.py) ... \u001b[?25l\u001b[?25hdone\n",
            "  Created wheel for sgmllib3k: filename=sgmllib3k-1.0.0-py3-none-any.whl size=6049 sha256=d5d61dd33ed33560f2eec047ac96ad6a2cc5331506d03a66dd4937cd089d351b\n",
            "  Stored in directory: /root/.cache/pip/wheels/f0/69/93/a47e9d621be168e9e33c7ce60524393c0b92ae83cf6c6e89c5\n",
            "Successfully built stocknews sgmllib3k\n",
            "Installing collected packages: sgmllib3k, feedparser, stocknews\n",
            "Successfully installed feedparser-6.0.11 sgmllib3k-1.0.0 stocknews-0.9.11\n"
          ]
        }
      ]
    },
    {
      "cell_type": "code",
      "source": [],
      "metadata": {
        "id": "iPDGo5AsYP7B"
      },
      "execution_count": null,
      "outputs": []
    }
  ]
}